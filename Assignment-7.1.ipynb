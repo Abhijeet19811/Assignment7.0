{
 "cells": [
  {
   "cell_type": "code",
   "execution_count": 36,
   "metadata": {},
   "outputs": [
    {
     "name": "stdout",
     "output_type": "stream",
     "text": [
      "The probability that a person undertaking that test has answered exactly 5 questions wrong 0.000003426\n"
     ]
    }
   ],
   "source": [
    "#A test is conducted which is consisting of 20 MCQs (multiple choices questions) with\n",
    "#every MCQ having its four options out of which only one is correct. Determine the\n",
    "#probability that a person undertaking that test has answered exactly 5 questions wrong\n",
    "\n",
    "import math\n",
    "\n",
    "n = 20 # representing the number of trials attempted\n",
    "x = 15 # k is the count of successes that is to be attained in those ‘n’ trials \n",
    "       # n-x=15, 20-x=15, x = 20-5 = 15 \n",
    "    \n",
    "# Using the Binomial Distribution formula\n",
    "# P(s) = probability of success of 1 MCQ = 1/4\n",
    "# 1-P(s) = 1 – 1/4 = 3/4 (This is the probability of failure)\n",
    "\n",
    "# P(x) = n! / (x! (n-x)!) * P(s)^x * (1-P(s)) ^(n-x)\n",
    "# P(5) = 20! / (5! (20 – 5)!) * (1 – 1/4)^5 * (1/4)^(20 – 5)\n",
    "\n",
    "p = ((20*19*18*17*16)/(5*4*3*2*1)) * (math.pow(0.25,15)* math.pow(0.75,5))\n",
    "print('The probability that a person undertaking that test has answered exactly 5 questions wrong',\"%.9f\"%(p))\n"
   ]
  }
 ],
 "metadata": {
  "kernelspec": {
   "display_name": "Python 3",
   "language": "python",
   "name": "python3"
  },
  "language_info": {
   "codemirror_mode": {
    "name": "ipython",
    "version": 3
   },
   "file_extension": ".py",
   "mimetype": "text/x-python",
   "name": "python",
   "nbconvert_exporter": "python",
   "pygments_lexer": "ipython3",
   "version": "3.6.3"
  }
 },
 "nbformat": 4,
 "nbformat_minor": 2
}
