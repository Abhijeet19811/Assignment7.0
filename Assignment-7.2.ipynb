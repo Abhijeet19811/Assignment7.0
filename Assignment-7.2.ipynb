{
 "cells": [
  {
   "cell_type": "code",
   "execution_count": 7,
   "metadata": {},
   "outputs": [
    {
     "name": "stdout",
     "output_type": "stream",
     "text": [
      "The probability of getting a “D” exactly 5 times 0.0295\n"
     ]
    }
   ],
   "source": [
    "#Problem Statement 1:\n",
    "#A die marked A to E is rolled 50 times. Find the probability of getting a “D” exactly 5 times.\n",
    "\n",
    "# Here n = 50 Number of Trials\n",
    "# There are 5 possibilities, A – E = 5\n",
    "# Probability of success, i.e, probability of getting D p(s)= 1/5 \n",
    "# Probability of not getting D, Probability of failure = 1 – 1/5 = 4/5\n",
    "\n",
    "# using the formula \"P(x) = n! / (x! (n-x)!) * P(s)^x * (1-P(s)) ^(n-x)\"\n",
    "# x = 5, n = 50, p(s) = 1/5\n",
    "# P(5) = 50! / (5! * (50 – 5)!) * (1/5) ^ 5 * (4/5) ^ 45\n",
    "\n",
    "import math \n",
    "p = ((50*49*48*47*46)/(5*4*3*2*1)) * (math.pow(0.20,5)* math.pow(0.80,45))\n",
    "print('The probability of getting a “D” exactly 5 times',\"%.4f\"%(p))"
   ]
  },
  {
   "cell_type": "code",
   "execution_count": null,
   "metadata": {
    "collapsed": true
   },
   "outputs": [],
   "source": []
  }
 ],
 "metadata": {
  "kernelspec": {
   "display_name": "Python 3",
   "language": "python",
   "name": "python3"
  },
  "language_info": {
   "codemirror_mode": {
    "name": "ipython",
    "version": 3
   },
   "file_extension": ".py",
   "mimetype": "text/x-python",
   "name": "python",
   "nbconvert_exporter": "python",
   "pygments_lexer": "ipython3",
   "version": "3.6.3"
  }
 },
 "nbformat": 4,
 "nbformat_minor": 2
}
